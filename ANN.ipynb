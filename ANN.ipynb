{
 "cells": [
  {
   "cell_type": "markdown",
   "metadata": {},
   "source": [
    "![alt text](ANN.png \"Title\")\n",
    "\n",
    "## 위 네트워크에서, Hidden Layer의 개수를 5개로 하여 직접 구현\n",
    "\n",
    "![alt text](ANN_memo.png \"Title\")\n",
    "\n",
    "#### https://sichkar-valentyn.github.io/Backpropagation/ 참고"
   ]
  },
  {
   "cell_type": "code",
   "execution_count": 1,
   "metadata": {},
   "outputs": [
    {
     "name": "stdout",
     "output_type": "stream",
     "text": [
      "(4, 3) (4, 1)\n",
      "(1, 3) (1, 1)\n"
     ]
    }
   ],
   "source": [
    "import numpy as np\n",
    "\n",
    "train_X = np.array([\n",
    "                [1, 1, 1],\n",
    "                [1, 0, 1],\n",
    "                [0, 0, 1],\n",
    "                [0, 1, 1]])\n",
    "train_Y = np.array([[1], [1], [0], [0]])\n",
    "\n",
    "test_X = np.array([[1, 0, 0]])\n",
    "test_Y = np.array([[1]])\n",
    "\n",
    "print(np.shape(train_X), np.shape(train_Y))\n",
    "print(np.shape(test_X), np.shape(test_Y))"
   ]
  },
  {
   "cell_type": "code",
   "execution_count": 11,
   "metadata": {},
   "outputs": [],
   "source": [
    "class NeuralNetwork():\n",
    "    def __init__(self, train_x, train_y):\n",
    "        self.x = train_x\n",
    "        self.y = train_y\n",
    "    \n",
    "        self.weight_1 = np.random.rand(3, 5)\n",
    "        self.weight_2 = np.random.rand(5, 1)\n",
    "\n",
    "    def sigmoid(self, x):\n",
    "        return 1/(1+np.exp(-x))\n",
    "    \n",
    "    def forward(self):\n",
    "        layer1_weighted_sum = np.dot(self.x, self.weight_1)\n",
    "        layer1_output = self.sigmoid(layer1_weighted_sum)\n",
    "\n",
    "        layer2_weighted_sum = np.dot(layer1_output, self.weight_2)\n",
    "        layer2_output = self.sigmoid(layer2_weighted_sum)\n",
    "\n",
    "        return layer1_output, layer2_output\n",
    "    \n",
    "    def backward(self, layer1_output, layer2_output, lr=0.1):\n",
    "        delta_2 = 2*(layer2_output - self.y) * layer2_output*(1-layer2_output)\n",
    "        delta_weight2 = np.dot(layer1_output.T, delta_2)\n",
    "\n",
    "        delta_1 = np.dot(delta_2, self.weight_2.T) * layer1_output*(1-layer1_output)\n",
    "        delta_weight1 = np.dot(self.x.T, delta_1)\n",
    "\n",
    "        self.weight_2 = self.weight_2 - lr*delta_weight2\n",
    "        self.weight_1 = self.weight_1 - lr*delta_weight1\n",
    "\n",
    "    def train(self):\n",
    "        for epoch in range(1000):\n",
    "            layer1_output, layer2_output = self.forward()\n",
    "\n",
    "            if (epoch+1) % 100 == 0:\n",
    "                loss = np.mean(np.square(self.y - layer2_output))\n",
    "                print(f'Epoch {epoch+1} loss : {loss}')\n",
    "            \n",
    "            self.backward(layer1_output, layer2_output, 0.1)\n",
    "    \n",
    "    def run_nn(self, input):\n",
    "        layer1_weighted_sum = np.dot(input, self.weight_1)\n",
    "        layer1_output = self.sigmoid(layer1_weighted_sum)\n",
    "\n",
    "        layer2_weighted_sum = np.dot(layer1_output, self.weight_2)\n",
    "        layer2_output = self.sigmoid(layer2_weighted_sum)\n",
    "\n",
    "        return layer2_output"
   ]
  },
  {
   "cell_type": "code",
   "execution_count": 12,
   "metadata": {},
   "outputs": [
    {
     "name": "stdout",
     "output_type": "stream",
     "text": [
      "Epoch 100 loss : 0.22619534535370334\n",
      "Epoch 200 loss : 0.1315654779011336\n",
      "Epoch 300 loss : 0.0435272543152683\n",
      "Epoch 400 loss : 0.019293073659373362\n",
      "Epoch 500 loss : 0.011215054338491041\n",
      "Epoch 600 loss : 0.007584529003685234\n",
      "Epoch 700 loss : 0.0056110746770724525\n",
      "Epoch 800 loss : 0.004398987300944379\n",
      "Epoch 900 loss : 0.00358984185595442\n",
      "Epoch 1000 loss : 0.003016324502248071\n",
      "[[0.97879321]]\n"
     ]
    }
   ],
   "source": [
    "model = NeuralNetwork(train_X, train_Y)\n",
    "model.train()\n",
    "print(model.run_nn(test_X))"
   ]
  },
  {
   "cell_type": "code",
   "execution_count": null,
   "metadata": {},
   "outputs": [],
   "source": []
  },
  {
   "cell_type": "code",
   "execution_count": null,
   "metadata": {},
   "outputs": [],
   "source": []
  }
 ],
 "metadata": {
  "kernelspec": {
   "display_name": "base",
   "language": "python",
   "name": "python3"
  },
  "language_info": {
   "codemirror_mode": {
    "name": "ipython",
    "version": 3
   },
   "file_extension": ".py",
   "mimetype": "text/x-python",
   "name": "python",
   "nbconvert_exporter": "python",
   "pygments_lexer": "ipython3",
   "version": "3.12.2"
  }
 },
 "nbformat": 4,
 "nbformat_minor": 2
}
