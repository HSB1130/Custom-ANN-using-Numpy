{
 "cells": [
  {
   "cell_type": "markdown",
   "metadata": {},
   "source": [
    "![alt text](./images/ANN.png \"Title\")"
   ]
  },
  {
   "cell_type": "code",
   "execution_count": 1,
   "metadata": {},
   "outputs": [
    {
     "name": "stdout",
     "output_type": "stream",
     "text": [
      "(4, 3) (4, 1)\n",
      "(1, 3) (1, 1)\n"
     ]
    }
   ],
   "source": [
    "import numpy as np\n",
    "\n",
    "train_X = np.array([\n",
    "                [1, 1, 1],\n",
    "                [1, 0, 1],\n",
    "                [0, 0, 1],\n",
    "                [0, 1, 1]])\n",
    "train_Y = np.array([[1], [1], [0], [0]])\n",
    "\n",
    "test_X = np.array([[1, 0, 0]])\n",
    "test_Y = np.array([[1]])\n",
    "\n",
    "print(np.shape(train_X), np.shape(train_Y))\n",
    "print(np.shape(test_X), np.shape(test_Y))"
   ]
  },
  {
   "cell_type": "code",
   "execution_count": 2,
   "metadata": {},
   "outputs": [],
   "source": [
    "class NeuralNetwork():\n",
    "    def __init__(self, train_x, train_y):\n",
    "        self.x = train_x\n",
    "        self.y = train_y\n",
    "    \n",
    "        self.W1 = np.random.rand(3, 5)\n",
    "        self.W2 = np.random.rand(5, 1)\n",
    "\n",
    "    def sigmoid(self, x):\n",
    "        return 1/(1+np.exp(-x))\n",
    "    \n",
    "    def forward(self):\n",
    "        n0 = self.x\n",
    "\n",
    "        d1 = np.dot(n0, self.W1)\n",
    "        n1 = self.sigmoid(d1)\n",
    "\n",
    "        d2 = np.dot(n1, self.W2)\n",
    "        n2 = self.sigmoid(d2)\n",
    "\n",
    "        return n1, n2\n",
    "    \n",
    "    def backward(self, n1, n2, lr=0.1):\n",
    "        delta_2 = 2*(n2 - self.y) * n2*(1-n2)\n",
    "        delta_W2 = np.dot(n1.T, delta_2)\n",
    "\n",
    "        delta_1 = np.dot(delta_2, self.W2.T) * n1*(1-n1)\n",
    "        delta_W1 = np.dot(self.x.T, delta_1)\n",
    "\n",
    "        self.W2 = self.W2 - lr*delta_W2\n",
    "        self.W1 = self.W1 - lr*delta_W1\n",
    "\n",
    "    def train(self):\n",
    "        for epoch in range(1000):\n",
    "            layer1_output, layer2_output = self.forward()\n",
    "\n",
    "            if (epoch+1) % 100 == 0:\n",
    "                loss = np.dot((self.y - layer2_output).T, (self.y-layer2_output))\n",
    "                print(f'Epoch {epoch+1} loss : {loss}')\n",
    "            \n",
    "            self.backward(layer1_output, layer2_output, 0.1)\n",
    "    \n",
    "    def Run_NN(self, input):\n",
    "        n0 = input\n",
    "\n",
    "        d1 = np.dot(n0, self.W1)\n",
    "        n1 = self.sigmoid(d1)\n",
    "\n",
    "        d2 = np.dot(n1, self.W2)\n",
    "        n2 = self.sigmoid(d2)\n",
    "\n",
    "        return n2"
   ]
  },
  {
   "cell_type": "code",
   "execution_count": 3,
   "metadata": {},
   "outputs": [
    {
     "name": "stdout",
     "output_type": "stream",
     "text": [
      "Epoch 100 loss : [[0.80524826]]\n",
      "Epoch 200 loss : [[0.40758497]]\n",
      "Epoch 300 loss : [[0.15560032]]\n",
      "Epoch 400 loss : [[0.07327887]]\n",
      "Epoch 500 loss : [[0.0432299]]\n",
      "Epoch 600 loss : [[0.02934529]]\n",
      "Epoch 700 loss : [[0.02172401]]\n",
      "Epoch 800 loss : [[0.0170249]]\n",
      "Epoch 900 loss : [[0.01388304]]\n",
      "Epoch 1000 loss : [[0.01165494]]\n",
      "\n",
      "Train_X Output : [[0.94458071]\n",
      " [0.95275391]\n",
      " [0.06119869]\n",
      " [0.05086458]]\n",
      "\n",
      "Test_X Output : [[0.98273226]]\n"
     ]
    }
   ],
   "source": [
    "model = NeuralNetwork(train_X, train_Y)\n",
    "model.train()\n",
    "\n",
    "print('\\nTrain_X Output :', model.Run_NN(train_X))\n",
    "print('\\nTest_X Output :', model.Run_NN(test_X))"
   ]
  },
  {
   "cell_type": "code",
   "execution_count": null,
   "metadata": {},
   "outputs": [],
   "source": []
  },
  {
   "cell_type": "code",
   "execution_count": null,
   "metadata": {},
   "outputs": [],
   "source": []
  }
 ],
 "metadata": {
  "kernelspec": {
   "display_name": "base",
   "language": "python",
   "name": "python3"
  },
  "language_info": {
   "codemirror_mode": {
    "name": "ipython",
    "version": 3
   },
   "file_extension": ".py",
   "mimetype": "text/x-python",
   "name": "python",
   "nbconvert_exporter": "python",
   "pygments_lexer": "ipython3",
   "version": "3.12.2"
  }
 },
 "nbformat": 4,
 "nbformat_minor": 2
}
