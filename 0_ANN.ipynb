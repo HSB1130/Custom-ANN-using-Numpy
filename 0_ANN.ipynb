{
 "cells": [
  {
   "cell_type": "markdown",
   "metadata": {},
   "source": [
    "![alt text](./images/ANN.png \"Title\")"
   ]
  },
  {
   "cell_type": "code",
   "execution_count": 1,
   "metadata": {},
   "outputs": [
    {
     "name": "stdout",
     "output_type": "stream",
     "text": [
      "(4, 3) (4, 1)\n",
      "(1, 3) (1, 1)\n"
     ]
    }
   ],
   "source": [
    "import numpy as np\n",
    "\n",
    "train_X = np.array([\n",
    "                [1, 1, 1],\n",
    "                [1, 0, 1],\n",
    "                [0, 0, 1],\n",
    "                [0, 1, 1]])\n",
    "train_Y = np.array([[1], [1], [0], [0]])\n",
    "\n",
    "test_X = np.array([[1, 0, 0]])\n",
    "test_Y = np.array([[1]])\n",
    "\n",
    "print(np.shape(train_X), np.shape(train_Y))\n",
    "print(np.shape(test_X), np.shape(test_Y))"
   ]
  },
  {
   "cell_type": "code",
   "execution_count": 2,
   "metadata": {},
   "outputs": [],
   "source": [
    "class NeuralNetwork():\n",
    "    def __init__(self, train_x, train_y):\n",
    "        self.x = train_x\n",
    "        self.y = train_y\n",
    "    \n",
    "        self.W1 = np.random.rand(3, 5)\n",
    "        self.W2 = np.random.rand(5, 1)\n",
    "\n",
    "    def Sigmoid(self, x):\n",
    "        return 1/(1+np.exp(-x))\n",
    "\n",
    "    def Derivative_Sigmoid(self, x):\n",
    "        return self.Sigmoid(x) * (1-self.Sigmoid(x))\n",
    "    \n",
    "    def forward(self):\n",
    "        n0 = self.x  # (4x3)\n",
    "\n",
    "        d1 = np.dot(n0, self.W1) # (4x3)*(3x5) = (4x5)\n",
    "        n1 = self.Sigmoid(d1) # (4x5)\n",
    "\n",
    "        d2 = np.dot(n1, self.W2) # (4x5)*(5x1) = (4x1)\n",
    "        n2 = self.Sigmoid(d2) # (4x1)\n",
    "\n",
    "        return d1, n1, d2, n2\n",
    "    \n",
    "    def backward(self, d1, n1, d2, n2, lr=0.1):\n",
    "        delta_2 = 2*(n2-self.y) * self.Derivative_Sigmoid(d2) # (4x1)\n",
    "        delta_W2 = np.dot(n1.T, delta_2)  # (5x4)*(4x1) = (5x1)\n",
    "\n",
    "        delta_1 = np.dot(delta_2, self.W2.T) * self.Derivative_Sigmoid(d1) # (4x5)\n",
    "        delta_W1 = np.dot(self.x.T, delta_1) # (3x4)*(4x5) = (3x5)\n",
    "\n",
    "        self.W2 = self.W2 - lr*delta_W2\n",
    "        self.W1 = self.W1 - lr*delta_W1\n",
    "\n",
    "    def train(self):\n",
    "        for epoch in range(1000):\n",
    "            d1, n1, d2, n2 = self.forward()\n",
    "\n",
    "            if (epoch+1) % 100 == 0:\n",
    "                loss = np.dot((self.y-n2).T, (self.y-n2))\n",
    "                print(f'Epoch {epoch+1} loss : {loss}')\n",
    "            \n",
    "            self.backward(d1, n1, d2, n2, 0.1)\n",
    "    \n",
    "    def Run_NN(self, input):\n",
    "        n0 = input\n",
    "\n",
    "        d1 = np.dot(n0, self.W1)\n",
    "        n1 = self.Sigmoid(d1)\n",
    "\n",
    "        d2 = np.dot(n1, self.W2)\n",
    "        n2 = self.Sigmoid(d2)\n",
    "\n",
    "        return n2"
   ]
  },
  {
   "cell_type": "code",
   "execution_count": 3,
   "metadata": {},
   "outputs": [
    {
     "name": "stdout",
     "output_type": "stream",
     "text": [
      "Epoch 100 loss : [[0.74719689]]\n",
      "Epoch 200 loss : [[0.35419658]]\n",
      "Epoch 300 loss : [[0.14253712]]\n",
      "Epoch 400 loss : [[0.07055833]]\n",
      "Epoch 500 loss : [[0.04208904]]\n",
      "Epoch 600 loss : [[0.02838507]]\n",
      "Epoch 700 loss : [[0.02076255]]\n",
      "Epoch 800 loss : [[0.01606326]]\n",
      "Epoch 900 loss : [[0.01294027]]\n",
      "Epoch 1000 loss : [[0.01074421]]\n",
      "\n",
      "Train_X Output : [[0.94646373]\n",
      " [0.96214165]\n",
      " [0.06422542]\n",
      " [0.04797202]]\n",
      "\n",
      "Test_X Output : [[0.99473454]]\n"
     ]
    }
   ],
   "source": [
    "model = NeuralNetwork(train_X, train_Y)\n",
    "model.train()\n",
    "\n",
    "print('\\nTrain_X Output :', model.Run_NN(train_X))\n",
    "print('\\nTest_X Output :', model.Run_NN(test_X))"
   ]
  },
  {
   "cell_type": "code",
   "execution_count": null,
   "metadata": {},
   "outputs": [],
   "source": []
  }
 ],
 "metadata": {
  "kernelspec": {
   "display_name": "base",
   "language": "python",
   "name": "python3"
  },
  "language_info": {
   "codemirror_mode": {
    "name": "ipython",
    "version": 3
   },
   "file_extension": ".py",
   "mimetype": "text/x-python",
   "name": "python",
   "nbconvert_exporter": "python",
   "pygments_lexer": "ipython3",
   "version": "3.12.2"
  }
 },
 "nbformat": 4,
 "nbformat_minor": 2
}
