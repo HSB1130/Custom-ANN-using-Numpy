{
 "cells": [
  {
   "cell_type": "markdown",
   "metadata": {},
   "source": [
    "![alt text](./images/ANN_2_Hiddens.png \"Title\")"
   ]
  },
  {
   "cell_type": "code",
   "execution_count": 1,
   "metadata": {},
   "outputs": [
    {
     "name": "stdout",
     "output_type": "stream",
     "text": [
      "(4, 3) (4, 1)\n",
      "(1, 3) (1, 1)\n"
     ]
    }
   ],
   "source": [
    "import numpy as np\n",
    "\n",
    "train_X = np.array([\n",
    "                [1, 1, 1],\n",
    "                [1, 0, 1],\n",
    "                [0, 0, 1],\n",
    "                [0, 1, 1]])\n",
    "train_Y = np.array([[1], [1], [0], [0]])\n",
    "\n",
    "test_X = np.array([[1, 0, 0]])\n",
    "test_Y = np.array([[1]])\n",
    "\n",
    "print(np.shape(train_X), np.shape(train_Y))\n",
    "print(np.shape(test_X), np.shape(test_Y))"
   ]
  },
  {
   "cell_type": "code",
   "execution_count": 2,
   "metadata": {},
   "outputs": [],
   "source": [
    "class TwoHiddenNN():\n",
    "    def __init__(self, train_X, train_Y):\n",
    "        self.x = train_X\n",
    "        self.y = train_Y\n",
    "\n",
    "        self.W1 = np.random.rand(3, 5)\n",
    "        self.W2 = np.random.rand(5, 2)\n",
    "        self.W3 = np.random.rand(2, 1)\n",
    "    \n",
    "    def ReLu(self, x):\n",
    "        return np.maximum(0.1*x, 0)\n",
    "    \n",
    "    def Derivative_ReLu(self, x):\n",
    "        return np.where(x>0, 0.1, 0)\n",
    "    \n",
    "    def forward(self):\n",
    "        n0 = self.x # (4x3)\n",
    "\n",
    "        d1 = np.dot(n0, self.W1) # (4x3)*(3x5) = (4x5)\n",
    "        n1 = self.ReLu(d1) # (4x5)\n",
    "\n",
    "        d2 = np.dot(n1, self.W2) # (4x5)*(5x2) = (4x2)\n",
    "        n2 = self.ReLu(d2)\n",
    "\n",
    "        d3 = np.dot(n2, self.W3) # (4x2)*(2x1) = (4x1)\n",
    "        n3 = self.ReLu(d3) # (4x1)\n",
    "\n",
    "        return d1, n1, d2, n2, d3, n3\n",
    "    \n",
    "    def backward(self, d1, n1, d2, n2, d3, n3, lr=0.0001):\n",
    "        delta_3 = 2*(n3-self.y) * self.Derivative_ReLu(d3) # (4x1)\n",
    "        delta_W3 = np.dot(n2.T, delta_3) # (2x4)*(4x1) = (2x1)\n",
    "\n",
    "        delta_2 = np.dot(delta_3, self.W3.T) * self.Derivative_ReLu(d2)  # (4x2)\n",
    "        delta_W2 = np.dot(n1.T, delta_2) # (5x4)*(4x2) = (5x2)\n",
    "\n",
    "        delta_1 = np.dot(delta_2, self.W2.T) * self.Derivative_ReLu(d1) # (4x5)\n",
    "        delta_W1 = np.dot(self.x.T, delta_1) # (3x4)*(4x5) = (3x5)\n",
    "\n",
    "        self.W3 = self.W3 - lr*delta_W3\n",
    "        self.W2 = self.W2 - lr*delta_W2\n",
    "        self.W1 = self.W1 - lr*delta_W1\n",
    "\n",
    "    def train(self):\n",
    "        for epoch in range(10000):\n",
    "            d1, n1, d2, n2, d3, n3 = self.forward()\n",
    "\n",
    "            if (epoch+1)%1000 == 0:\n",
    "                loss = np.dot((n3-self.y).T, (n3-self.y))\n",
    "                print(f'Epoch {epoch+1} loss : {loss}')\n",
    "            \n",
    "            self.backward(d1, n1, d2, n2, d3, n3, lr=0.1)\n",
    "    \n",
    "    def Run_NN(self, x):\n",
    "        n0 = x # (4x3)\n",
    "\n",
    "        d1 = np.dot(n0, self.W1) # (4x3)*(3x5) = (4x5)\n",
    "        n1 = self.ReLu(d1) # (4x5)\n",
    "\n",
    "        d2 = np.dot(n1, self.W2) # (4x5)*(5x2) = (4x2)\n",
    "        n2 = self.ReLu(d2) # (4x2)\n",
    "\n",
    "        d3 = np.dot(n2, self.W3) # (4x2)*(2x1) = (4x1)\n",
    "        n3 = self.ReLu(d3) # (4x1)\n",
    "\n",
    "        return n3"
   ]
  },
  {
   "cell_type": "code",
   "execution_count": 3,
   "metadata": {},
   "outputs": [
    {
     "name": "stdout",
     "output_type": "stream",
     "text": [
      "Epoch 1000 loss : [[1.62517221]]\n",
      "Epoch 2000 loss : [[0.10317743]]\n",
      "Epoch 3000 loss : [[0.00176555]]\n",
      "Epoch 4000 loss : [[0.00024993]]\n",
      "Epoch 5000 loss : [[5.97615524e-05]]\n",
      "Epoch 6000 loss : [[1.50085075e-05]]\n",
      "Epoch 7000 loss : [[6.21295421e-06]]\n",
      "Epoch 8000 loss : [[3.05653361e-06]]\n",
      "Epoch 9000 loss : [[1.53188838e-06]]\n",
      "Epoch 10000 loss : [[7.73238818e-07]]\n",
      "\n",
      "Train_X Output : [[9.99860924e-01]\n",
      " [1.00010119e+00]\n",
      " [2.69117744e-04]\n",
      " [8.18958705e-04]]\n",
      "\n",
      "Test_X Output : [[1.01032089]]\n"
     ]
    }
   ],
   "source": [
    "model = TwoHiddenNN(train_X, train_Y)\n",
    "model.train()\n",
    "\n",
    "print('\\nTrain_X Output :', model.Run_NN(train_X))\n",
    "print('\\nTest_X Output :',model.Run_NN(test_X))"
   ]
  },
  {
   "cell_type": "code",
   "execution_count": null,
   "metadata": {},
   "outputs": [],
   "source": []
  }
 ],
 "metadata": {
  "kernelspec": {
   "display_name": "base",
   "language": "python",
   "name": "python3"
  },
  "language_info": {
   "codemirror_mode": {
    "name": "ipython",
    "version": 3
   },
   "file_extension": ".py",
   "mimetype": "text/x-python",
   "name": "python",
   "nbconvert_exporter": "python",
   "pygments_lexer": "ipython3",
   "version": "3.12.2"
  }
 },
 "nbformat": 4,
 "nbformat_minor": 2
}
