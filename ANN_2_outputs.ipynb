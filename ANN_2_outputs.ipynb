{
 "cells": [
  {
   "cell_type": "markdown",
   "metadata": {},
   "source": [
    "![alt text](./images/ANN_2_Outputs.png \"Title\")"
   ]
  },
  {
   "cell_type": "code",
   "execution_count": 1,
   "metadata": {},
   "outputs": [
    {
     "name": "stdout",
     "output_type": "stream",
     "text": [
      "(4, 3) (4, 2)\n",
      "(1, 3) (1, 2)\n"
     ]
    }
   ],
   "source": [
    "import numpy as np\n",
    "\n",
    "train_X = np.array([\n",
    "                [1, 1, 1],\n",
    "                [1, 0, 1],\n",
    "                [0, 0, 1],\n",
    "                [0, 1, 1]])\n",
    "train_Y = np.array([[1, 1], [1, 1], [0, 0], [0, 0]])\n",
    "\n",
    "test_X = np.array([[1, 0, 0]])\n",
    "test_Y = np.array([[1, 1]])\n",
    "\n",
    "print(np.shape(train_X), np.shape(train_Y))\n",
    "print(np.shape(test_X), np.shape(test_Y))"
   ]
  },
  {
   "cell_type": "code",
   "execution_count": 5,
   "metadata": {},
   "outputs": [],
   "source": [
    "class NeuralNetwork():\n",
    "    def __init__(self, train_x, train_y):\n",
    "        self.x = train_x\n",
    "        self.y = train_y\n",
    "    \n",
    "        self.W1 = np.random.rand(3, 5)\n",
    "        self.W2 = np.random.rand(5, 2)\n",
    "\n",
    "    def sigmoid(self, x):\n",
    "        return 1/(1+np.exp(-x))\n",
    "    \n",
    "    def forward(self):\n",
    "        n0 = self.x\n",
    "\n",
    "        d1 = np.dot(n0, self.W1)\n",
    "        n1 = self.sigmoid(d1)\n",
    "\n",
    "        d2 = np.dot(n1, self.W2)\n",
    "        n2 = self.sigmoid(d2)\n",
    "\n",
    "        return n1, n2\n",
    "    \n",
    "    def backward(self, n1, n2, lr=0.1):\n",
    "        delta_2 = 2*(n2 - self.y) * n2*(1-n2)\n",
    "        delta_W2 = np.dot(n1.T, delta_2)\n",
    "\n",
    "        delta_1 = np.dot(delta_2, self.W2.T) * n1*(1-n1)\n",
    "        delta_W1 = np.dot(self.x.T, delta_1)\n",
    "\n",
    "        self.W2 = self.W2 - lr*delta_W2\n",
    "        self.W1 = self.W1 - lr*delta_W1\n",
    "\n",
    "    def train(self):\n",
    "        for epoch in range(1000):\n",
    "            layer1_output, layer2_output = self.forward()\n",
    "\n",
    "            if (epoch+1) % 100 == 0:\n",
    "                loss = np.dot((self.y - layer2_output).T, (self.y-layer2_output))\n",
    "                print(f'Epoch {epoch+1} loss : {loss}')\n",
    "            \n",
    "            self.backward(layer1_output, layer2_output, 0.1)\n",
    "    \n",
    "    def Run_NN(self, input):\n",
    "        n0 = input\n",
    "\n",
    "        d1 = np.dot(n0, self.W1)\n",
    "        n1 = self.sigmoid(d1)\n",
    "\n",
    "        d2 = np.dot(n1, self.W2)\n",
    "        n2 = self.sigmoid(d2)\n",
    "\n",
    "        return n2"
   ]
  },
  {
   "cell_type": "code",
   "execution_count": 6,
   "metadata": {},
   "outputs": [
    {
     "name": "stdout",
     "output_type": "stream",
     "text": [
      "Epoch 100 loss : [[0.85574349 0.90423787]\n",
      " [0.90423787 0.9566892 ]]\n",
      "Epoch 200 loss : [[0.37630808 0.43592754]\n",
      " [0.43592754 0.5060872 ]]\n",
      "Epoch 300 loss : [[0.09464821 0.10967106]\n",
      " [0.10967106 0.12712285]]\n",
      "Epoch 400 loss : [[0.0393201  0.04404721]\n",
      " [0.04404721 0.04934658]]\n",
      "Epoch 500 loss : [[0.02286172 0.0250382 ]\n",
      " [0.0250382  0.0274228 ]]\n",
      "Epoch 600 loss : [[0.01566128 0.01690203]\n",
      " [0.01690203 0.0182414 ]]\n",
      "Epoch 700 loss : [[0.01175009 0.01255206]\n",
      " [0.01255206 0.01340893]]\n",
      "Epoch 800 loss : [[0.0093302  0.00989228]\n",
      " [0.00989228 0.01048831]]\n",
      "Epoch 900 loss : [[0.00769923 0.0081159 ]\n",
      " [0.0081159  0.00855519]]\n",
      "Epoch 1000 loss : [[0.0065318  0.00685362]\n",
      " [0.00685362 0.00719134]]\n",
      "\n",
      "Train_X Output : [[0.95830607 0.95626898]\n",
      " [0.9669003  0.96520068]\n",
      " [0.04805575 0.05027371]\n",
      " [0.03712797 0.03910128]]\n",
      "\n",
      "Test_X Output : [[0.98913441 0.98792741]]\n"
     ]
    }
   ],
   "source": [
    "model = NeuralNetwork(train_X, train_Y)\n",
    "model.train()\n",
    "\n",
    "print('\\nTrain_X Output :', model.Run_NN(train_X))\n",
    "print('\\nTest_X Output :', model.Run_NN(test_X))"
   ]
  },
  {
   "cell_type": "code",
   "execution_count": null,
   "metadata": {},
   "outputs": [],
   "source": []
  },
  {
   "cell_type": "code",
   "execution_count": null,
   "metadata": {},
   "outputs": [],
   "source": []
  }
 ],
 "metadata": {
  "kernelspec": {
   "display_name": "base",
   "language": "python",
   "name": "python3"
  },
  "language_info": {
   "codemirror_mode": {
    "name": "ipython",
    "version": 3
   },
   "file_extension": ".py",
   "mimetype": "text/x-python",
   "name": "python",
   "nbconvert_exporter": "python",
   "pygments_lexer": "ipython3",
   "version": "3.12.2"
  }
 },
 "nbformat": 4,
 "nbformat_minor": 2
}
