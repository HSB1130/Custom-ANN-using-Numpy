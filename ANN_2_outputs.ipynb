{
 "cells": [
  {
   "cell_type": "markdown",
   "metadata": {},
   "source": [
    "![alt text](./images/ANN_2_Outputs.png \"Title\")"
   ]
  },
  {
   "cell_type": "code",
   "execution_count": 1,
   "metadata": {},
   "outputs": [
    {
     "name": "stdout",
     "output_type": "stream",
     "text": [
      "(4, 3) (4, 2)\n",
      "(1, 3) (1, 2)\n"
     ]
    }
   ],
   "source": [
    "import numpy as np\n",
    "\n",
    "train_X = np.array([\n",
    "                [1, 1, 1],\n",
    "                [1, 0, 1],\n",
    "                [0, 0, 1],\n",
    "                [0, 1, 1]])\n",
    "train_Y = np.array([[1, 1], [1, 1], [0, 0], [0, 0]])\n",
    "\n",
    "test_X = np.array([[1, 0, 0]])\n",
    "test_Y = np.array([[1, 1]])\n",
    "\n",
    "print(np.shape(train_X), np.shape(train_Y))\n",
    "print(np.shape(test_X), np.shape(test_Y))"
   ]
  },
  {
   "cell_type": "code",
   "execution_count": 6,
   "metadata": {},
   "outputs": [],
   "source": [
    "class NeuralNetwork():\n",
    "    def __init__(self, train_x, train_y):\n",
    "        self.x = train_x\n",
    "        self.y = train_y\n",
    "    \n",
    "        self.W1 = np.random.rand(3, 5)\n",
    "        self.W2 = np.random.rand(5, 2)\n",
    "\n",
    "    def Sigmoid(self, x):\n",
    "        return 1/(1+np.exp(-x))\n",
    "    \n",
    "    def Derivative_Sigmoid(self, x):\n",
    "        return self.Sigmoid(x) * (1-self.Sigmoid(x))\n",
    "    \n",
    "    def forward(self):\n",
    "        n0 = self.x\n",
    "\n",
    "        d1 = np.dot(n0, self.W1)\n",
    "        n1 = self.Sigmoid(d1)\n",
    "\n",
    "        d2 = np.dot(n1, self.W2)\n",
    "        n2 = self.Sigmoid(d2)\n",
    "\n",
    "        return d1, n1, d2, n2\n",
    "    \n",
    "    def backward(self, d1, n1, d2, n2, lr=0.1):\n",
    "        delta_2 = 2*(n2-self.y) * self.Derivative_Sigmoid(d2)\n",
    "        delta_W2 = np.dot(n1.T, delta_2)\n",
    "\n",
    "        delta_1 = np.dot(delta_2, self.W2.T) * self.Derivative_Sigmoid(d1)\n",
    "        delta_W1 = np.dot(self.x.T, delta_1)\n",
    "\n",
    "        self.W2 = self.W2 - lr*delta_W2\n",
    "        self.W1 = self.W1 - lr*delta_W1\n",
    "\n",
    "    def train(self):\n",
    "        for epoch in range(1000):\n",
    "            d1, n1, d2, n2 = self.forward()\n",
    "\n",
    "            if (epoch+1) % 100 == 0:\n",
    "                loss = np.dot((self.y-n2).T, (self.y-n2))\n",
    "                print(f'Epoch {epoch+1} loss : {loss}')\n",
    "            \n",
    "            self.backward(d1, n1, d2, n2, 0.1)\n",
    "    \n",
    "    def Run_NN(self, input):\n",
    "        n0 = input\n",
    "\n",
    "        d1 = np.dot(n0, self.W1)\n",
    "        n1 = self.Sigmoid(d1)\n",
    "\n",
    "        d2 = np.dot(n1, self.W2)\n",
    "        n2 = self.Sigmoid(d2)\n",
    "\n",
    "        return n2"
   ]
  },
  {
   "cell_type": "code",
   "execution_count": 7,
   "metadata": {},
   "outputs": [
    {
     "name": "stdout",
     "output_type": "stream",
     "text": [
      "Epoch 100 loss : [[0.94320438 0.91212869]\n",
      " [0.91212869 0.88213527]]\n",
      "Epoch 200 loss : [[0.44442089 0.40087673]\n",
      " [0.40087673 0.36160197]]\n",
      "Epoch 300 loss : [[0.12298819 0.1106861 ]\n",
      " [0.1106861  0.09961636]]\n",
      "Epoch 400 loss : [[0.05364966 0.0492047 ]\n",
      " [0.0492047  0.04513077]]\n",
      "Epoch 500 loss : [[0.03131328 0.02910718]\n",
      " [0.02910718 0.02705891]]\n",
      "Epoch 600 loss : [[0.02127449 0.01995904]\n",
      " [0.01995904 0.01872689]]\n",
      "Epoch 700 loss : [[0.01579341 0.01491617]\n",
      " [0.01491617 0.01408929]]\n",
      "Epoch 800 loss : [[0.01241209 0.01178227]\n",
      " [0.01178227 0.01118578]]\n",
      "Epoch 900 loss : [[0.01014649 0.00967022]\n",
      " [0.00967022 0.00921747]]\n",
      "Epoch 1000 loss : [[0.00853581 0.0081616 ]\n",
      " [0.0081616  0.00780482]]\n",
      "\n",
      "Train_X Output : [[0.95130113 0.95381068]\n",
      " [0.95949135 0.96063342]\n",
      " [0.05172948 0.04894514]\n",
      " [0.04282072 0.0413995 ]]\n",
      "\n",
      "Test_X Output : [[0.98334354 0.98370493]]\n"
     ]
    }
   ],
   "source": [
    "model = NeuralNetwork(train_X, train_Y)\n",
    "model.train()\n",
    "\n",
    "print('\\nTrain_X Output :', model.Run_NN(train_X))\n",
    "print('\\nTest_X Output :', model.Run_NN(test_X))"
   ]
  },
  {
   "cell_type": "code",
   "execution_count": null,
   "metadata": {},
   "outputs": [],
   "source": []
  },
  {
   "cell_type": "code",
   "execution_count": null,
   "metadata": {},
   "outputs": [],
   "source": []
  }
 ],
 "metadata": {
  "kernelspec": {
   "display_name": "base",
   "language": "python",
   "name": "python3"
  },
  "language_info": {
   "codemirror_mode": {
    "name": "ipython",
    "version": 3
   },
   "file_extension": ".py",
   "mimetype": "text/x-python",
   "name": "python",
   "nbconvert_exporter": "python",
   "pygments_lexer": "ipython3",
   "version": "3.12.2"
  }
 },
 "nbformat": 4,
 "nbformat_minor": 2
}
