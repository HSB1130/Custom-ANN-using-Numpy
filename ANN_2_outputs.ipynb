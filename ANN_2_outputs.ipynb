{
 "cells": [
  {
   "cell_type": "markdown",
   "metadata": {},
   "source": [
    "![alt text](./images/ANN_2_Outputs.png \"Title\")"
   ]
  },
  {
   "cell_type": "code",
   "execution_count": 1,
   "metadata": {},
   "outputs": [
    {
     "name": "stdout",
     "output_type": "stream",
     "text": [
      "(4, 3) (4, 2)\n",
      "(1, 3) (1, 2)\n"
     ]
    }
   ],
   "source": [
    "import numpy as np\n",
    "\n",
    "train_X = np.array([\n",
    "                [1, 1, 1],\n",
    "                [1, 0, 1],\n",
    "                [0, 0, 1],\n",
    "                [0, 1, 1]])\n",
    "train_Y = np.array([[1, 1], [1, 1], [0, 0], [0, 0]])\n",
    "\n",
    "test_X = np.array([[1, 0, 0]])\n",
    "test_Y = np.array([[1, 1]])\n",
    "\n",
    "print(np.shape(train_X), np.shape(train_Y))\n",
    "print(np.shape(test_X), np.shape(test_Y))"
   ]
  },
  {
   "cell_type": "code",
   "execution_count": 2,
   "metadata": {},
   "outputs": [],
   "source": [
    "class NeuralNetwork():\n",
    "    def __init__(self, train_x, train_y):\n",
    "        self.x = train_x\n",
    "        self.y = train_y\n",
    "    \n",
    "        self.W1 = np.random.rand(3, 5)\n",
    "        self.W2 = np.random.rand(5, 2)\n",
    "\n",
    "    def Sigmoid(self, x):\n",
    "        return 1/(1+np.exp(-x))\n",
    "    \n",
    "    def Derivative_Sigmoid(self, x):\n",
    "        return self.Sigmoid(x) * (1-self.Sigmoid(x))\n",
    "    \n",
    "    def forward(self):\n",
    "        n0 = self.x\n",
    "\n",
    "        d1 = np.dot(n0, self.W1)\n",
    "        n1 = self.Sigmoid(d1)\n",
    "\n",
    "        d2 = np.dot(n1, self.W2)\n",
    "        n2 = self.Sigmoid(d2)\n",
    "\n",
    "        return d1, n1, d2, n2\n",
    "    \n",
    "    def backward(self, d1, n1, d2, n2, lr=0.1):\n",
    "        delta_2 = 2*(n2-self.y) * self.Derivative_Sigmoid(d2)\n",
    "        delta_W2 = np.dot(n1.T, delta_2)\n",
    "\n",
    "        delta_1 = np.dot(delta_2, self.W2.T) * self.Derivative_Sigmoid(d1)\n",
    "        delta_W1 = np.dot(self.x.T, delta_1)\n",
    "\n",
    "        self.W2 = self.W2 - lr*delta_W2\n",
    "        self.W1 = self.W1 - lr*delta_W1\n",
    "\n",
    "    def train(self):\n",
    "        for epoch in range(1000):\n",
    "            d1, n1, d2, n2 = self.forward()\n",
    "\n",
    "            if (epoch+1) % 100 == 0:\n",
    "                loss = np.dot((self.y-n2).T, (self.y-n2))\n",
    "                print(f'Epoch {epoch+1} loss : {loss}')\n",
    "            \n",
    "            self.backward(d1, n1, d2, n2, 0.1)\n",
    "    \n",
    "    def Run_NN(self, input):\n",
    "        n0 = input\n",
    "\n",
    "        d1 = np.dot(n0, self.W1)\n",
    "        n1 = self.Sigmoid(d1)\n",
    "\n",
    "        d2 = np.dot(n1, self.W2)\n",
    "        n2 = self.Sigmoid(d2)\n",
    "\n",
    "        return n2"
   ]
  },
  {
   "cell_type": "code",
   "execution_count": 3,
   "metadata": {},
   "outputs": [
    {
     "name": "stdout",
     "output_type": "stream",
     "text": [
      "Epoch 100 loss : [[0.85393359 0.84572186]\n",
      " [0.84572186 0.83760624]]\n",
      "Epoch 200 loss : [[0.39404005 0.38513871]\n",
      " [0.38513871 0.37644194]]\n",
      "Epoch 300 loss : [[0.10332368 0.10084569]\n",
      " [0.10084569 0.09843246]]\n",
      "Epoch 400 loss : [[0.04555308 0.044703  ]\n",
      " [0.044703   0.04387251]]\n",
      "Epoch 500 loss : [[0.02749836 0.02709041]\n",
      " [0.02709041 0.02669112]]\n",
      "Epoch 600 loss : [[0.01922866 0.01899328]\n",
      " [0.01899328 0.01876274]]\n",
      "Epoch 700 loss : [[0.0146041  0.01445239]\n",
      " [0.01445239 0.01430379]]\n",
      "Epoch 800 loss : [[0.01168875 0.01158355]\n",
      " [0.01158355 0.01148056]]\n",
      "Epoch 900 loss : [[0.00969875 0.00962196]\n",
      " [0.00962196 0.00954683]]\n",
      "Epoch 1000 loss : [[0.00826143 0.00820319]\n",
      " [0.00820319 0.00814628]]\n",
      "\n",
      "Train_X Output : [[0.95729194 0.95795672]\n",
      " [0.9662933  0.96612209]\n",
      " [0.05634503 0.05547155]\n",
      " [0.04598049 0.04627955]]\n",
      "\n",
      "Test_X Output : [[0.98855785 0.98827118]]\n"
     ]
    }
   ],
   "source": [
    "model = NeuralNetwork(train_X, train_Y)\n",
    "model.train()\n",
    "\n",
    "print('\\nTrain_X Output :', model.Run_NN(train_X))\n",
    "print('\\nTest_X Output :', model.Run_NN(test_X))"
   ]
  },
  {
   "cell_type": "code",
   "execution_count": null,
   "metadata": {},
   "outputs": [],
   "source": []
  }
 ],
 "metadata": {
  "kernelspec": {
   "display_name": "base",
   "language": "python",
   "name": "python3"
  },
  "language_info": {
   "codemirror_mode": {
    "name": "ipython",
    "version": 3
   },
   "file_extension": ".py",
   "mimetype": "text/x-python",
   "name": "python",
   "nbconvert_exporter": "python",
   "pygments_lexer": "ipython3",
   "version": "3.12.2"
  }
 },
 "nbformat": 4,
 "nbformat_minor": 2
}
