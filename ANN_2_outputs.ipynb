{
 "cells": [
  {
   "cell_type": "markdown",
   "metadata": {},
   "source": [
    "![alt text](./images/ANN.png \"Title\")\n",
    "\n",
    "## 위 네트워크에서, Hidden Layer의 개수를 5개로 하여 직접 구현\n",
    "\n",
    "![alt text](./images/ANN_memo.png \"Title\")\n",
    "\n",
    "#### https://sichkar-valentyn.github.io/Backpropagation/ 참고"
   ]
  },
  {
   "cell_type": "code",
   "execution_count": 1,
   "metadata": {},
   "outputs": [
    {
     "name": "stdout",
     "output_type": "stream",
     "text": [
      "(4, 3) (4, 2)\n",
      "(1, 3) (1, 2)\n"
     ]
    }
   ],
   "source": [
    "import numpy as np\n",
    "\n",
    "train_X = np.array([\n",
    "                [1, 1, 1],\n",
    "                [1, 0, 1],\n",
    "                [0, 0, 1],\n",
    "                [0, 1, 1]])\n",
    "train_Y = np.array([[1, 1], [1, 1], [0, 0], [0, 0]])\n",
    "\n",
    "test_X = np.array([[1, 0, 0]])\n",
    "test_Y = np.array([[1, 1]])\n",
    "\n",
    "print(np.shape(train_X), np.shape(train_Y))\n",
    "print(np.shape(test_X), np.shape(test_Y))"
   ]
  },
  {
   "cell_type": "code",
   "execution_count": 4,
   "metadata": {},
   "outputs": [],
   "source": [
    "class NeuralNetwork():\n",
    "    def __init__(self, train_x, train_y):\n",
    "        self.x = train_x\n",
    "        self.y = train_y\n",
    "    \n",
    "        self.weight_1 = np.random.rand(3, 5)\n",
    "        self.weight_2 = np.random.rand(5, 2)\n",
    "\n",
    "    def sigmoid(self, x):\n",
    "        return 1/(1+np.exp(-x))\n",
    "    \n",
    "    def forward(self):\n",
    "        layer1_weighted_sum = np.dot(self.x, self.weight_1)\n",
    "        layer1_output = self.sigmoid(layer1_weighted_sum)\n",
    "\n",
    "        layer2_weighted_sum = np.dot(layer1_output, self.weight_2)\n",
    "        layer2_output = self.sigmoid(layer2_weighted_sum)\n",
    "\n",
    "        return layer1_output, layer2_output\n",
    "    \n",
    "    def backward(self, layer1_output, layer2_output, lr=0.1):\n",
    "        delta_2 = 2*(layer2_output - self.y) * layer2_output*(1-layer2_output)\n",
    "        delta_weight2 = np.dot(layer1_output.T, delta_2)\n",
    "\n",
    "        delta_1 = np.dot(delta_2, self.weight_2.T) * layer1_output*(1-layer1_output)\n",
    "        delta_weight1 = np.dot(self.x.T, delta_1)\n",
    "\n",
    "        self.weight_2 = self.weight_2 - lr*delta_weight2\n",
    "        self.weight_1 = self.weight_1 - lr*delta_weight1\n",
    "\n",
    "    def train(self):\n",
    "        for epoch in range(1000):\n",
    "            layer1_output, layer2_output = self.forward()\n",
    "\n",
    "            if (epoch+1) % 100 == 0:\n",
    "                loss = np.dot((self.y - layer2_output).T, (self.y-layer2_output))\n",
    "                print(f'Epoch {epoch+1} loss : {loss}')\n",
    "            \n",
    "            self.backward(layer1_output, layer2_output, 0.1)\n",
    "    \n",
    "    def run_nn(self, input):\n",
    "        layer1_weighted_sum = np.dot(input, self.weight_1)\n",
    "        layer1_output = self.sigmoid(layer1_weighted_sum)\n",
    "\n",
    "        layer2_weighted_sum = np.dot(layer1_output, self.weight_2)\n",
    "        layer2_output = self.sigmoid(layer2_weighted_sum)\n",
    "\n",
    "        return layer2_output"
   ]
  },
  {
   "cell_type": "code",
   "execution_count": 5,
   "metadata": {},
   "outputs": [
    {
     "name": "stdout",
     "output_type": "stream",
     "text": [
      "Epoch 100 loss : [[0.81806022 0.81569915]\n",
      " [0.81569915 0.81347205]]\n",
      "Epoch 200 loss : [[0.24125858 0.24005952]\n",
      " [0.24005952 0.238937  ]]\n",
      "Epoch 300 loss : [[0.07813635 0.07780817]\n",
      " [0.07780817 0.0775071 ]]\n",
      "Epoch 400 loss : [[0.03997215 0.03981642]\n",
      " [0.03981642 0.03967454]]\n",
      "Epoch 500 loss : [[0.0255242  0.02542884]\n",
      " [0.02542884 0.02534223]]\n",
      "Epoch 600 loss : [[0.01832823 0.01826174]\n",
      " [0.01826174 0.01820147]]\n",
      "Epoch 700 loss : [[0.01412457 0.0140745 ]\n",
      " [0.0140745  0.01402917]]\n",
      "Epoch 800 loss : [[0.01140499 0.01136531]\n",
      " [0.01136531 0.01132943]]\n",
      "Epoch 900 loss : [[0.0095172  0.00948461]\n",
      " [0.00948461 0.00945516]]\n",
      "Epoch 1000 loss : [[0.00813784 0.00811036]\n",
      " [0.00811036 0.00808553]]\n",
      "[[0.97661978 0.97726101]]\n"
     ]
    }
   ],
   "source": [
    "model = NeuralNetwork(train_X, train_Y)\n",
    "model.train()\n",
    "print(model.run_nn(test_X))"
   ]
  },
  {
   "cell_type": "code",
   "execution_count": null,
   "metadata": {},
   "outputs": [],
   "source": []
  },
  {
   "cell_type": "code",
   "execution_count": null,
   "metadata": {},
   "outputs": [],
   "source": []
  }
 ],
 "metadata": {
  "kernelspec": {
   "display_name": "base",
   "language": "python",
   "name": "python3"
  },
  "language_info": {
   "codemirror_mode": {
    "name": "ipython",
    "version": 3
   },
   "file_extension": ".py",
   "mimetype": "text/x-python",
   "name": "python",
   "nbconvert_exporter": "python",
   "pygments_lexer": "ipython3",
   "version": "3.12.2"
  }
 },
 "nbformat": 4,
 "nbformat_minor": 2
}
